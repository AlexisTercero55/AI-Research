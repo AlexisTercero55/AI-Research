{
 "cells": [
  {
   "cell_type": "code",
   "execution_count": 1,
   "metadata": {},
   "outputs": [],
   "source": [
    "import gensim\n",
    "from gensim.models import Word2Vec\n",
    "from W2V_Utils import read_files\n",
    "\n",
    "\n",
    "# Set the directory containing the text files\n",
    "input_directory = '''E:\\dev\\AI-Research\\Research\\datasets\\\\NPL'''\n",
    "\n",
    "# Read text files\n",
    "sentences = read_files(input_directory)\n",
    "\n",
    "# If no documents were read due to errors, exit the program\n",
    "if not sentences:\n",
    "    exit()\n",
    "\n",
    "# Train the Word2Vec model\n",
    "model = Word2Vec(sentences, \n",
    "                 vector_size=50, \n",
    "                 epochs=100, \n",
    "                 min_count=1, \n",
    "                 workers=4)\n",
    "\n",
    "# Save the model\n",
    "model.save(\"word2vec_model.bin\")\n",
    "\n",
    "# Load the model\n",
    "# model = Word2Vec.load(\"word2vec_model.bin\")\n"
   ]
  },
  {
   "cell_type": "code",
   "execution_count": 2,
   "metadata": {},
   "outputs": [
    {
     "name": "stdout",
     "output_type": "stream",
     "text": [
      "Vector representation of fire:\n",
      " [-0.1104683  -0.14136663 -0.06843191  0.33043057 -0.3970172  -0.09142454\n",
      " -0.08200441  0.23963147 -0.9560836   0.2725084  -0.38526943 -0.8024383\n",
      " -0.39242706  0.21528338 -0.23291174 -0.11479082 -0.1507028  -0.15211472\n",
      " -0.26093358 -0.242647   -0.16335179  0.72482294  0.63329905  0.16409369\n",
      " -0.11755019  0.1290216  -0.19210196 -0.25737455 -0.5802743  -0.19929817\n",
      " -0.09771542 -0.24339628 -0.2248112   0.02656233 -0.71549606 -0.3479572\n",
      "  0.25692153  0.20859145  0.11216623 -0.5315613   0.7653258   0.2181495\n",
      " -0.09732713  0.32728517  0.23716775  0.1809691   0.00704208 -0.45685062\n",
      "  0.06555753  0.31276873]\n",
      "Similar words to fire:\n",
      " [('cease', 0.9926706552505493), ('returning', 0.9910172820091248), ('pm', 0.9882722496986389), ('unit', 0.9821272492408752), ('3pm', 0.9820842146873474), ('heavier', 0.9807316064834595), ('left', 0.979174017906189), ('corinthians', 0.9784792065620422), ('weapons', 0.978430449962616), ('tried', 0.9777550101280212)]\n"
     ]
    }
   ],
   "source": [
    "\n",
    "wordd = 'fire'\n",
    "# Get vector representation of a word\n",
    "word_vector = model.wv[wordd]\n",
    "\n",
    "# Find similar words\n",
    "similar_words = model.wv.most_similar(wordd)\n",
    "\n",
    "print(f\"Vector representation of {wordd}:\\n\", word_vector)\n",
    "print(f\"Similar words to {wordd}:\\n\", similar_words)\n"
   ]
  },
  {
   "cell_type": "code",
   "execution_count": null,
   "metadata": {},
   "outputs": [],
   "source": []
  }
 ],
 "metadata": {
  "kernelspec": {
   "display_name": "DS_env",
   "language": "python",
   "name": "python3"
  },
  "language_info": {
   "codemirror_mode": {
    "name": "ipython",
    "version": 3
   },
   "file_extension": ".py",
   "mimetype": "text/x-python",
   "name": "python",
   "nbconvert_exporter": "python",
   "pygments_lexer": "ipython3",
   "version": "3.10.4"
  }
 },
 "nbformat": 4,
 "nbformat_minor": 2
}
